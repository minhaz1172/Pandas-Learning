{
 "cells": [
  {
   "cell_type": "code",
   "execution_count": null,
   "metadata": {},
   "outputs": [
    {
     "name": "stdout",
     "output_type": "stream",
     "text": [
      "0    3\n",
      "1    4\n",
      "2    5\n",
      "3    6\n",
      "4    7\n",
      "dtype: int64\n",
      "<class 'pandas.core.series.Series'>\n",
      "a    10.0\n",
      "b    11.0\n",
      "c    12.0\n",
      "d    13.0\n",
      "e    14.0\n",
      "f    15.0\n",
      "g    16.0\n",
      "h    17.0\n",
      "dtype: float64\n",
      "<class 'pandas.core.series.Series'>\n"
     ]
    }
   ],
   "source": [
    "import pandas as pd\n",
    "\n",
    "list=[3,4,5,6,7]\n",
    "#series pf pandas\n",
    "var= pd.Series(list)\n",
    "print(var)\n",
    "print(type(var))\n",
    "\n",
    "#changing index of list\n",
    "list2=pd.Series([10,11,12,13,14,15,16,17],index=['a','b','c','d','e','f','g','h'],dtype=float)\n",
    "print(list2)\n",
    "print(type(list2))\n",
    "\n"
   ]
  }
 ],
 "metadata": {
  "kernelspec": {
   "display_name": "Python 3",
   "language": "python",
   "name": "python3"
  },
  "language_info": {
   "codemirror_mode": {
    "name": "ipython",
    "version": 3
   },
   "file_extension": ".py",
   "mimetype": "text/x-python",
   "name": "python",
   "nbconvert_exporter": "python",
   "pygments_lexer": "ipython3",
   "version": "3.11.9"
  }
 },
 "nbformat": 4,
 "nbformat_minor": 2
}
