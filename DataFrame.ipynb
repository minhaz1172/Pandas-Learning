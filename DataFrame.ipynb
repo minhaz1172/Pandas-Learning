{
 "cells": [
  {
   "cell_type": "code",
   "execution_count": 5,
   "metadata": {},
   "outputs": [
    {
     "name": "stdout",
     "output_type": "stream",
     "text": [
      "   calories  carbs  protein\n",
      "0       420     80       40\n",
      "1       380     60       30\n",
      "2       390     90       50\n",
      "      calories  carbs  protein\n",
      "day1       420     80       40\n",
      "day2       380     60       30\n",
      "day3       390     90       50\n",
      "<class 'pandas.core.frame.DataFrame'>\n",
      "calories    380\n",
      "carbs        60\n",
      "protein      30\n",
      "Name: day2, dtype: int64\n"
     ]
    }
   ],
   "source": [
    "import pandas as pd\n",
    "#using dictionaries\n",
    "data={\n",
    "    \"calories\":[420,380,390],\n",
    "    \"carbs\":[80,60,90],\n",
    "    \"protein\":[40,30,50]\n",
    "}\n",
    "df=pd.DataFrame(data)\n",
    "print(df)\n",
    "\n",
    "#named indexes\n",
    "df=pd.DataFrame(data,index=[\"day1\",\"day2\",\"day3\"])\n",
    "print(df)\n",
    "print(type(df))\n",
    "\n",
    "#return specific values\n",
    "\n",
    "print(df.loc[\"day2\"])"
   ]
  }
 ],
 "metadata": {
  "kernelspec": {
   "display_name": "Python 3",
   "language": "python",
   "name": "python3"
  },
  "language_info": {
   "codemirror_mode": {
    "name": "ipython",
    "version": 3
   },
   "file_extension": ".py",
   "mimetype": "text/x-python",
   "name": "python",
   "nbconvert_exporter": "python",
   "pygments_lexer": "ipython3",
   "version": "3.11.9"
  }
 },
 "nbformat": 4,
 "nbformat_minor": 2
}
