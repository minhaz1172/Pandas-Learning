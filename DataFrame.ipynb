{
 "cells": [
  {
   "cell_type": "code",
   "execution_count": 35,
   "metadata": {},
   "outputs": [
    {
     "name": "stdout",
     "output_type": "stream",
     "text": [
      "   calories  carbs  protein\n",
      "0       420     80       40\n",
      "1       380     60       30\n",
      "2       390     90       50\n",
      "      calories  carbs  protein\n",
      "day1       420     80       40\n",
      "day2       380     60       30\n",
      "day3       390     90       50\n",
      "<class 'pandas.core.frame.DataFrame'>\n",
      "calories    380\n",
      "carbs        60\n",
      "protein      30\n",
      "Name: day2, dtype: int64\n"
     ]
    }
   ],
   "source": [
    "import pandas as pd\n",
    "#using dictionaries\n",
    "data={\n",
    "    \"calories\":[420,380,390],\n",
    "    \"carbs\":[80,60,90],\n",
    "    \"protein\":[40,30,50]\n",
    "}\n",
    "df=pd.DataFrame(data)\n",
    "print(df)\n",
    "\n",
    "#named indexes\n",
    "df=pd.DataFrame(data,index=[\"day1\",\"day2\",\"day3\"])\n",
    "print(df)\n",
    "print(type(df))\n",
    "\n",
    "#return specific values\n",
    "\n",
    "print(df.loc[\"day2\"])"
   ]
  },
  {
   "cell_type": "code",
   "execution_count": 36,
   "metadata": {},
   "outputs": [
    {
     "name": "stdout",
     "output_type": "stream",
     "text": [
      "   A  B\n",
      "0  1  a\n",
      "1  2  b\n",
      "2  3  c\n",
      "3  4  d\n",
      "4  5  e\n",
      "5  6  f\n",
      "New added column is C:\n",
      "   A  B   C\n",
      "0  1  a  10\n",
      "1  2  b  20\n",
      "2  3  c  30\n",
      "3  4  d  40\n",
      "4  5  e  50\n",
      "5  6  f  60\n",
      "   A  B   C  New column\n",
      "0  1  a  10         1.0\n",
      "1  2  b  20         2.0\n",
      "2  3  c  30         3.0\n",
      "3  4  d  40         NaN\n",
      "4  5  e  50         NaN\n",
      "5  6  f  60         NaN\n",
      "After deletion of column C:\n",
      "   A  B  New column\n",
      "0  1  a         1.0\n",
      "1  2  b         2.0\n",
      "2  3  c         3.0\n",
      "3  4  d         NaN\n",
      "4  5  e         NaN\n",
      "5  6  f         NaN\n"
     ]
    }
   ],
   "source": [
    "# insertion and deletion in pandas\n",
    "var = pd.DataFrame({\"A\": [1, 2, 3, 4, 5, 6], \"B\": ['a', 'b', 'c', 'd', 'e', 'f']})\n",
    "print(var)\n",
    "\n",
    "#insert in specific position\n",
    "var.insert(2,\"C\",[10,20,30,40,50,60])\n",
    "# 2 means position C is column name and other is values\n",
    "print(\"New added column is C:\")\n",
    "print(var) \n",
    "\n",
    "#copy value of var to another table\n",
    "var[\"New column\"]=var[\"A\"][:3] #slicing column A\n",
    "print(var)\n",
    "\n",
    "#delete column\n",
    "del var[\"C\"]\n",
    "print(\"After deletion of column C:\")\n",
    "print(var)"
   ]
  },
  {
   "cell_type": "code",
   "execution_count": null,
   "metadata": {},
   "outputs": [
    {
     "name": "stdout",
     "output_type": "stream",
     "text": [
      "   a  b\n",
      "0  1  a\n",
      "1  2  b\n",
      "2  3  c\n",
      "3  4  d\n",
      "4  5  e\n",
      "5  6  f\n",
      "    Unnamed: 0   a  b\n",
      "0            0   1  a\n",
      "1            1   2  b\n",
      "2            2   3  c\n",
      "3            3   4  d\n",
      "4            4   5  e\n",
      "5            5   6  f\n",
      "6            6   7  g\n",
      "7            7   8  h\n",
      "8            8   9  i\n",
      "9            9  10  j\n",
      "10          10  11  k\n",
      "11          11  12  l\n"
     ]
    }
   ],
   "source": [
    "dis={\"a\":[1,2,3,4,5,6], \"b\":[\"a\",\"b\",\"c\",\"d\",\"e\",\"f\"]}\n",
    "df=pd.DataFrame(dis)\n",
    "print(df)\n",
    "\n",
    "#replace this to CSV fILE\n",
    "df.to_csv(\"data.csv\")\n",
    "\n",
    "#read from csv file\n",
    "df=pd.read_csv(\"Data11.csv\")#file path\n",
    "print(df)"
   ]
  }
 ],
 "metadata": {
  "kernelspec": {
   "display_name": "Python 3",
   "language": "python",
   "name": "python3"
  },
  "language_info": {
   "codemirror_mode": {
    "name": "ipython",
    "version": 3
   },
   "file_extension": ".py",
   "mimetype": "text/x-python",
   "name": "python",
   "nbconvert_exporter": "python",
   "pygments_lexer": "ipython3",
   "version": "3.11.9"
  }
 },
 "nbformat": 4,
 "nbformat_minor": 2
}
